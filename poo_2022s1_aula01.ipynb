{
  "nbformat": 4,
  "nbformat_minor": 0,
  "metadata": {
    "colab": {
      "name": "poo-2022s1-aula01.ipynb",
      "provenance": [],
      "collapsed_sections": [],
      "include_colab_link": true
    },
    "kernelspec": {
      "name": "python3",
      "display_name": "Python 3"
    },
    "language_info": {
      "name": "python"
    }
  },
  "cells": [
    {
      "cell_type": "markdown",
      "metadata": {
        "id": "view-in-github",
        "colab_type": "text"
      },
      "source": [
        "<a href=\"https://colab.research.google.com/github/Joaolpridolficarvalho/POO/blob/main/poo_2022s1_aula01.ipynb\" target=\"_parent\"><img src=\"https://colab.research.google.com/assets/colab-badge.svg\" alt=\"Open In Colab\"/></a>"
      ]
    },
    {
      "cell_type": "code",
      "execution_count": null,
      "metadata": {
        "id": "cx3SO2du4DGC"
      },
      "outputs": [],
      "source": [
        "class Porta:\n",
        "  # atributos de classe\n",
        "  cor = 'amarelo'\n",
        "\n",
        "  # construtor\n",
        "  def __init__(self, status, id_numero): \n",
        "    # atributos de instância\n",
        "    self.status = status\n",
        "    self.id_numero = id_numero\n",
        "\n",
        "  def abrir(self):\n",
        "    self.status = 'aberta'\n",
        "\n",
        "  def fechar(self):\n",
        "    self.status = 'fechada'"
      ]
    },
    {
      "cell_type": "code",
      "source": [
        "p1 = Porta('fechada', 100)\n",
        "p2 = Porta('aberta', 101)"
      ],
      "metadata": {
        "id": "NvcT-9HZyjs4"
      },
      "execution_count": null,
      "outputs": []
    },
    {
      "cell_type": "code",
      "source": [
        "print(p1.status + ' - ' + str(p1.id_numero) + ' - ' + p1.cor)\n",
        "print(p2.status + ' - ' + str(p2.id_numero) + ' - ' + p2.cor)"
      ],
      "metadata": {
        "colab": {
          "base_uri": "https://localhost:8080/"
        },
        "id": "sb_eiehuzqVL",
        "outputId": "eb0f78de-46ba-48ba-f249-94f19cdaa55b"
      },
      "execution_count": null,
      "outputs": [
        {
          "output_type": "stream",
          "name": "stdout",
          "text": [
            "fechada - 100 - amarelo\n",
            "aberta - 101 - amarelo\n"
          ]
        }
      ]
    },
    {
      "cell_type": "code",
      "source": [
        "p1.abrir()\n",
        "print(p1.status + ' - ' + str(p1.id_numero) + ' - ' + p1.cor)"
      ],
      "metadata": {
        "colab": {
          "base_uri": "https://localhost:8080/"
        },
        "id": "bEeupx8v0LQB",
        "outputId": "f2f4a21d-a009-48d2-9763-e1a8cb06c328"
      },
      "execution_count": null,
      "outputs": [
        {
          "output_type": "stream",
          "name": "stdout",
          "text": [
            "aberta - 100 - amarelo\n"
          ]
        }
      ]
    },
    {
      "cell_type": "code",
      "source": [
        "p1.__dict__"
      ],
      "metadata": {
        "colab": {
          "base_uri": "https://localhost:8080/"
        },
        "id": "OzoZcwyl0Y79",
        "outputId": "4a099bb1-1bf5-4f7d-8b52-0de7b7805631"
      },
      "execution_count": null,
      "outputs": [
        {
          "output_type": "execute_result",
          "data": {
            "text/plain": [
              "{'id_numero': 100, 'status': 'aberta'}"
            ]
          },
          "metadata": {},
          "execution_count": 20
        }
      ]
    },
    {
      "cell_type": "code",
      "source": [
        "Porta.__dict__"
      ],
      "metadata": {
        "colab": {
          "base_uri": "https://localhost:8080/"
        },
        "id": "pcRvkPjZ06NM",
        "outputId": "353a0259-267e-4935-df41-d9c4ae52e085"
      },
      "execution_count": null,
      "outputs": [
        {
          "output_type": "execute_result",
          "data": {
            "text/plain": [
              "mappingproxy({'__dict__': <attribute '__dict__' of 'Porta' objects>,\n",
              "              '__doc__': None,\n",
              "              '__init__': <function __main__.Porta.__init__>,\n",
              "              '__module__': '__main__',\n",
              "              '__weakref__': <attribute '__weakref__' of 'Porta' objects>,\n",
              "              'abrir': <function __main__.Porta.abrir>,\n",
              "              'cor': 'amarelo',\n",
              "              'fechar': <function __main__.Porta.fechar>})"
            ]
          },
          "metadata": {},
          "execution_count": 21
        }
      ]
    },
    {
      "cell_type": "code",
      "source": [
        "type(p1)"
      ],
      "metadata": {
        "id": "DoDmGqok0-aj",
        "outputId": "1a54ae42-e864-4d78-f382-9474a364eb8b",
        "colab": {
          "base_uri": "https://localhost:8080/"
        }
      },
      "execution_count": null,
      "outputs": [
        {
          "output_type": "execute_result",
          "data": {
            "text/plain": [
              "__main__.Porta"
            ]
          },
          "metadata": {},
          "execution_count": 22
        }
      ]
    },
    {
      "cell_type": "code",
      "source": [
        "Porta.cor = 'azul'\n",
        "print(Porta.cor)"
      ],
      "metadata": {
        "id": "8tQFqZEX1E66",
        "colab": {
          "base_uri": "https://localhost:8080/"
        },
        "outputId": "34db0a61-af07-40b4-e8bc-2a7e6d7f8002"
      },
      "execution_count": null,
      "outputs": [
        {
          "output_type": "stream",
          "name": "stdout",
          "text": [
            "azul\n"
          ]
        }
      ]
    },
    {
      "cell_type": "code",
      "source": [
        "print(p1.status + ' - ' + str(p1.id_numero) + ' - ' + p1.cor)\n",
        "print(p2.status + ' - ' + str(p2.id_numero) + ' - ' + p2.cor)"
      ],
      "metadata": {
        "colab": {
          "base_uri": "https://localhost:8080/"
        },
        "id": "jO8EduIGSgOA",
        "outputId": "baa85b20-870e-4b3d-9ce2-09d89c5b0e24"
      },
      "execution_count": null,
      "outputs": [
        {
          "output_type": "stream",
          "name": "stdout",
          "text": [
            "fechada - 100 - azul\n",
            "aberta - 101 - azul\n"
          ]
        }
      ]
    },
    {
      "cell_type": "code",
      "source": [
        "p1.cor = 'roxo'"
      ],
      "metadata": {
        "id": "FyCMlCpbSmt9"
      },
      "execution_count": null,
      "outputs": []
    },
    {
      "cell_type": "code",
      "source": [
        "print(p1.status + ' - ' + str(p1.id_numero) + ' - ' + p1.cor)\n",
        "print(p2.status + ' - ' + str(p2.id_numero) + ' - ' + p2.cor)"
      ],
      "metadata": {
        "colab": {
          "base_uri": "https://localhost:8080/"
        },
        "id": "kzL5mz32Sx31",
        "outputId": "1c6006cf-9e0d-41be-94f8-c94c018c48d4"
      },
      "execution_count": null,
      "outputs": [
        {
          "output_type": "stream",
          "name": "stdout",
          "text": [
            "fechada - 100 - roxo\n",
            "aberta - 101 - azul\n"
          ]
        }
      ]
    },
    {
      "cell_type": "code",
      "source": [
        "print(p1.__dict__)\n",
        "print(p2.__dict__)"
      ],
      "metadata": {
        "colab": {
          "base_uri": "https://localhost:8080/"
        },
        "id": "zZlb6O09S-og",
        "outputId": "0370f8ce-c84d-4de1-8494-20f0566d7e3f"
      },
      "execution_count": null,
      "outputs": [
        {
          "output_type": "stream",
          "name": "stdout",
          "text": [
            "{'status': 'fechada', 'id_numero': 100, 'cor': 'roxo'}\n",
            "{'status': 'aberta', 'id_numero': 101}\n"
          ]
        }
      ]
    },
    {
      "cell_type": "code",
      "source": [
        "p1.fechadura = 'metal'\n",
        "print(p1.__dict__)\n",
        "print(p2.__dict__)"
      ],
      "metadata": {
        "colab": {
          "base_uri": "https://localhost:8080/"
        },
        "id": "co7dOADfU3Wh",
        "outputId": "fc48ea49-5ddc-4dd9-a61a-33116979f995"
      },
      "execution_count": null,
      "outputs": [
        {
          "output_type": "stream",
          "name": "stdout",
          "text": [
            "{'status': 'fechada', 'id_numero': 100, 'cor': 'roxo', 'fechadura': 'metal'}\n",
            "{'status': 'aberta', 'id_numero': 101}\n"
          ]
        }
      ]
    },
    {
      "cell_type": "code",
      "source": [
        "print(p1.fechadura)\n",
        "#print(p2.fechadura) -- AttributeError: 'Porta' object has no attribute 'fechadura'"
      ],
      "metadata": {
        "colab": {
          "base_uri": "https://localhost:8080/"
        },
        "id": "FwSbN5z8U9TY",
        "outputId": "60708c9f-681a-4546-a655-6eb4bc1b7526"
      },
      "execution_count": null,
      "outputs": [
        {
          "output_type": "stream",
          "name": "stdout",
          "text": [
            "metal\n"
          ]
        }
      ]
    },
    {
      "cell_type": "code",
      "source": [
        "class Porta:\n",
        "  # atributos de classe\n",
        "  cor = 'amarelo'\n",
        "\n",
        "  # construtor\n",
        "  def __init__(self, status, id_numero): \n",
        "    # atributos de instância\n",
        "    self.status = status\n",
        "    self.id_numero = id_numero\n",
        "\n",
        "  def abrir(self):\n",
        "    self.status = 'aberta'\n",
        "\n",
        "  def fechar(self):\n",
        "    self.status = 'fechada'\n",
        "\n",
        "  @classmethod\n",
        "  def knock(cls): \n",
        "    print('knock knock!')\n",
        "\n",
        "  @classmethod\n",
        "  def pintar(cls, cor):\n",
        "    cls.cor = cor"
      ],
      "metadata": {
        "id": "sSweNWB3VQto"
      },
      "execution_count": null,
      "outputs": []
    },
    {
      "cell_type": "code",
      "source": [
        "p1 = Porta('fechada', 100)\n",
        "p2 = Porta('aberta', 101)"
      ],
      "metadata": {
        "id": "nvcsg_deWXa_"
      },
      "execution_count": null,
      "outputs": []
    },
    {
      "cell_type": "code",
      "source": [
        "print(p1.status + ' - ' + str(p1.id_numero) + ' - ' + p1.cor)\n",
        "print(p2.status + ' - ' + str(p2.id_numero) + ' - ' + p2.cor)"
      ],
      "metadata": {
        "colab": {
          "base_uri": "https://localhost:8080/"
        },
        "id": "_xJPj51LWbR2",
        "outputId": "43204897-3e2a-4839-ffcb-c8882efcbc78"
      },
      "execution_count": null,
      "outputs": [
        {
          "output_type": "stream",
          "name": "stdout",
          "text": [
            "fechada - 100 - amarelo\n",
            "aberta - 101 - amarelo\n"
          ]
        }
      ]
    },
    {
      "cell_type": "code",
      "source": [
        "Porta.pintar('branco')"
      ],
      "metadata": {
        "id": "XyjFF09JWh4-"
      },
      "execution_count": null,
      "outputs": []
    },
    {
      "cell_type": "code",
      "source": [
        "print(p1.status + ' - ' + str(p1.id_numero) + ' - ' + p1.cor)\n",
        "print(p2.status + ' - ' + str(p2.id_numero) + ' - ' + p2.cor)"
      ],
      "metadata": {
        "colab": {
          "base_uri": "https://localhost:8080/"
        },
        "id": "cT7mMq16Whu1",
        "outputId": "5bee318c-b0ae-4843-e54c-fc35496b594b"
      },
      "execution_count": null,
      "outputs": [
        {
          "output_type": "stream",
          "name": "stdout",
          "text": [
            "fechada - 100 - branco\n",
            "aberta - 101 - branco\n"
          ]
        }
      ]
    },
    {
      "cell_type": "code",
      "source": [
        "print(p1.__dict__)\n",
        "print(p2.__dict__)\n",
        "print(Porta.__dict__)"
      ],
      "metadata": {
        "colab": {
          "base_uri": "https://localhost:8080/"
        },
        "id": "9oiJhNBCWtng",
        "outputId": "50023653-2e7b-4d0e-d531-4389a0a0765a"
      },
      "execution_count": null,
      "outputs": [
        {
          "output_type": "stream",
          "name": "stdout",
          "text": [
            "{'status': 'fechada', 'id_numero': 100}\n",
            "{'status': 'aberta', 'id_numero': 101}\n",
            "{'__module__': '__main__', 'cor': 'branco', '__init__': <function Porta.__init__ at 0x7f7b4f4e14d0>, 'abrir': <function Porta.abrir at 0x7f7b4f4e1dd0>, 'fechar': <function Porta.fechar at 0x7f7b4f4e1c20>, 'knock': <classmethod object at 0x7f7b4f5134d0>, 'pintar': <classmethod object at 0x7f7b4f513890>, '__dict__': <attribute '__dict__' of 'Porta' objects>, '__weakref__': <attribute '__weakref__' of 'Porta' objects>, '__doc__': None}\n"
          ]
        }
      ]
    },
    {
      "cell_type": "markdown",
      "source": [
        "## Exercício\n",
        "\n",
        "Criar uma classe chamada `Carro` com os seguintes atributos: `modelo`, `cor`, `ano`, `preco` e `total_carros` (o último deve ser um atributo de classe)\n",
        "\n",
        "Crie os métodos `set` e `get` para cada atributo, um construtor, um método `imprimir_carro` e um método `imprimir_total`."
      ],
      "metadata": {
        "id": "IIJrpQO7XMfw"
      }
    },
    {
      "cell_type": "code",
      "source": [
        "class Carro:\n",
        "    total_carros = 0\n",
        "\n",
        "    def __init__(self, modelo=None, ano=None, cor=None, preco=None):\n",
        "        self.modelo = modelo\n",
        "        self.ano = ano\n",
        "        self.cor = cor\n",
        "        self.preco = preco\n",
        "        self.__class__.total_carros += 1\n",
        "\n",
        "    def get_cor(self):\n",
        "        return str(self.cor)\n",
        "\n",
        "    def get_modelo(self):\n",
        "        return str(self.modelo)\n",
        "\n",
        "    def get_ano(self):\n",
        "        return str(self.ano)\n",
        "\n",
        "    def get_preco(self):\n",
        "        return str(self.preco)\n",
        "\n",
        "    def set_modelo(self, modelo):\n",
        "        if type(modelo) is str:\n",
        "            self.modelo = modelo\n",
        "    \n",
        "    def set_ano(self, ano):\n",
        "        if type(ano) is int:\n",
        "            self.ano = ano\n",
        "\n",
        "    def imprimir_carro(self):\n",
        "        print('Modelo: ' + self.get_modelo())\n",
        "        print('Cor: ' + self.get_cor())\n",
        "        print('Ano: ' + self.get_ano())\n",
        "        print('Preço: ' + self.get_preco())\n",
        "\n",
        "    @classmethod\n",
        "    def imprimir_total(cls):\n",
        "        print('Total de carros = ' + str(cls.total_carros))"
      ],
      "metadata": {
        "id": "1jZrSm7FmVdK"
      },
      "execution_count": null,
      "outputs": []
    },
    {
      "cell_type": "code",
      "source": [
        "Carro.imprimir_total()"
      ],
      "metadata": {
        "colab": {
          "base_uri": "https://localhost:8080/"
        },
        "id": "EHnRrprhsq2W",
        "outputId": "bc7ac524-2b46-43b5-b69d-89ab1bcb64d8"
      },
      "execution_count": null,
      "outputs": [
        {
          "output_type": "stream",
          "name": "stdout",
          "text": [
            "Total de carros = 0\n"
          ]
        }
      ]
    },
    {
      "cell_type": "code",
      "source": [
        "c1 = Carro(cor='amarelo', modelo='Gol', ano=1990)"
      ],
      "metadata": {
        "id": "cgFN-XImsxEd"
      },
      "execution_count": null,
      "outputs": []
    },
    {
      "cell_type": "code",
      "source": [
        "c2 = Carro()\n",
        "c3 = Carro()\n",
        "c4 = Carro()\n",
        "c5 = Carro()"
      ],
      "metadata": {
        "id": "BepjhQDlsxB6"
      },
      "execution_count": null,
      "outputs": []
    },
    {
      "cell_type": "code",
      "source": [
        "Carro.imprimir_total()"
      ],
      "metadata": {
        "colab": {
          "base_uri": "https://localhost:8080/"
        },
        "id": "mfFRkUfOs-nx",
        "outputId": "6998f457-24d1-46db-9a98-a3af59b3c18a"
      },
      "execution_count": null,
      "outputs": [
        {
          "output_type": "stream",
          "name": "stdout",
          "text": [
            "Total de carros = 4\n"
          ]
        }
      ]
    },
    {
      "cell_type": "code",
      "source": [
        "c1.imprimir_carro()"
      ],
      "metadata": {
        "colab": {
          "base_uri": "https://localhost:8080/"
        },
        "id": "EFoY8C5KtE3g",
        "outputId": "2022aff1-3bd4-46b8-b6b6-ca899f9ba0f2"
      },
      "execution_count": null,
      "outputs": [
        {
          "output_type": "stream",
          "name": "stdout",
          "text": [
            "Modelo: Gol\n",
            "Cor: amarelo\n",
            "Ano: 1990\n",
            "Preço: None\n"
          ]
        }
      ]
    },
    {
      "cell_type": "code",
      "source": [
        "class politico:\n",
        "  def __init__(self, nome=None, partido=None, estado=None, funcao=None):\n",
        "    self.nome = nome\n",
        "    self.partido=partido\n",
        "    self.estado=estado\n",
        "    self.funcao=funcao\n",
        "  \n",
        "  def set_nome(self, nome):\n",
        "    self.nome=self.nome\n",
        "  def get_nome(self):\n",
        "    return str(self.nome)\n",
        "  \n"
      ],
      "metadata": {
        "id": "hx5jp03dbUSQ"
      },
      "execution_count": null,
      "outputs": []
    }
  ]
}