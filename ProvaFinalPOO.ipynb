{
  "nbformat": 4,
  "nbformat_minor": 0,
  "metadata": {
    "colab": {
      "name": "ProvaFinalPOO.ipynb",
      "provenance": [],
      "collapsed_sections": [],
      "include_colab_link": true
    },
    "kernelspec": {
      "name": "python3",
      "display_name": "Python 3"
    },
    "language_info": {
      "name": "python"
    }
  },
  "cells": [
    {
      "cell_type": "markdown",
      "metadata": {
        "id": "view-in-github",
        "colab_type": "text"
      },
      "source": [
        "<a href=\"https://colab.research.google.com/github/Joaolpridolficarvalho/POO/blob/main/ProvaFinalPOO.ipynb\" target=\"_parent\"><img src=\"https://colab.research.google.com/assets/colab-badge.svg\" alt=\"Open In Colab\"/></a>"
      ]
    },
    {
      "cell_type": "code",
      "execution_count": null,
      "metadata": {
        "id": "ePPbuCL1kDfH"
      },
      "outputs": [],
      "source": [
        "class Animal:\n",
        "  def __init__(self):\n",
        "    pass\n",
        "  def set_genero(self, genero):\n",
        "    self.genero=genero\n",
        "  def get_genero(self):\n",
        "    return self.genero"
      ]
    },
    {
      "cell_type": "code",
      "source": [
        "class Urso(Animal):\n",
        "  def __init__(self,genero):\n",
        "      super().set_genero(genero)  "
      ],
      "metadata": {
        "id": "fKGfhAePrhp1"
      },
      "execution_count": null,
      "outputs": []
    },
    {
      "cell_type": "code",
      "source": [
        "class Peixe(Animal):\n",
        "  def __init__(self,genero):\n",
        "      super().set_genero(genero) "
      ],
      "metadata": {
        "id": "c7niFqJ3umBa"
      },
      "execution_count": null,
      "outputs": []
    },
    {
      "cell_type": "code",
      "source": [
        "u1 = Urso('feminino')\n",
        "u2 = Urso('masculino')\n",
        "u3 = Urso('feminino')\n",
        "\n",
        "p1 = Peixe('feminino')\n",
        "p2 = Peixe('masculino')\n",
        "p3 = Peixe('masculino')\n",
        "\n",
        "rio = [u1,u2,u3,u3,p1,None,p2,p3,None,None];\n",
        "\n",
        "for i in range(10):\n",
        "  pass\n",
        "    \n",
        "  \n"
      ],
      "metadata": {
        "id": "DUvJXGJ4uyQh"
      },
      "execution_count": null,
      "outputs": []
    },
    {
      "cell_type": "markdown",
      "source": [
        "Exercício 4"
      ],
      "metadata": {
        "id": "fyEYHdnwy2W1"
      }
    },
    {
      "cell_type": "code",
      "source": [
        "class Macaco:\n",
        "  def __init__(self, nome):\n",
        "    self.nome= nome\n",
        "\n",
        "  def get_nome(self):\n",
        "    return self.nome\n",
        "  def comunicar():\n",
        "    pass\n",
        "  \n"
      ],
      "metadata": {
        "id": "_pfQE0B0zOL3"
      },
      "execution_count": null,
      "outputs": []
    },
    {
      "cell_type": "code",
      "source": [
        "class mostra_animal:\n",
        "  def sou_macaco(self, mac):\n",
        "    if isinstance(mac, Macaco):\n",
        "      mac.get_nome(self)\n",
        "      mac.comunicar()\n",
        "      for chave, valor in mac.items():\n",
        "       print(\"Animal: \" + chave)\n",
        "    def mostrarPato(mac):\n",
        "      try: \n",
        "       mac.get_nome(self)\n",
        "       mac.comunicar()\n",
        "      except:\n",
        "        print(\"-\")\n"
      ],
      "metadata": {
        "id": "Ys1NG_ZjLidn"
      },
      "execution_count": null,
      "outputs": []
    },
    {
      "cell_type": "code",
      "source": [
        "class chipanze(Macaco):\n",
        "  def __init__(self, nome):\n",
        "      super().__init__(nome)\n",
        "  def comunicar():\n",
        "    print(\"Ahhhuhaa\")\n",
        "        "
      ],
      "metadata": {
        "id": "1Ee-Dcdp9o0G"
      },
      "execution_count": null,
      "outputs": []
    },
    {
      "cell_type": "code",
      "source": [
        "class Vaca:\n",
        "  def __init__(self, nome):\n",
        "    self.nome=nome\n",
        "\n",
        "  def get_nome(self):\n",
        "    return self.nome\n",
        "  def mugir():\n",
        "    print(\"Mumu-Mumuuuuuu!\")"
      ],
      "metadata": {
        "id": "dgwm_Pvo_fXU"
      },
      "execution_count": null,
      "outputs": []
    },
    {
      "cell_type": "code",
      "source": [
        "class Gorila(Macaco):\n",
        "  def __init__(self, nome):\n",
        "      super().__init__(nome)\n",
        "  def comunicar():\n",
        "        print(\"UhuhhhUh\")"
      ],
      "metadata": {
        "id": "sfss12E_HTh4"
      },
      "execution_count": null,
      "outputs": []
    },
    {
      "cell_type": "code",
      "source": [
        "C1=chipanze(\"Chico\")\n",
        "C2=chipanze(\"Tião\")\n",
        "G1=Gorila(\"Mozerc\")\n",
        "G2=Gorila(\"Kalil\")\n",
        "V1=Vaca(\"Melinda\")\n",
        "V2=Vaca(\"Manchadinha\")\n",
        "\n",
        "A=[]\n",
        "\n",
        "A.append(C1)\n",
        "A.append(C2)\n",
        "A.append(G1)\n",
        "A.append(G2)\n",
        "A.append(V1)\n",
        "A.append(V2)\n",
        "\n"
      ],
      "metadata": {
        "id": "yRYXbjeLE7-R",
        "colab": {
          "base_uri": "https://localhost:8080/",
          "height": 235
        },
        "outputId": "4346fb52-e71c-4ef1-df86-aacac62aa5ae"
      },
      "execution_count": 16,
      "outputs": [
        {
          "output_type": "error",
          "ename": "TypeError",
          "evalue": "ignored",
          "traceback": [
            "\u001b[0;31m---------------------------------------------------------------------------\u001b[0m",
            "\u001b[0;31mTypeError\u001b[0m                                 Traceback (most recent call last)",
            "\u001b[0;32m<ipython-input-16-5c4b808de44f>\u001b[0m in \u001b[0;36m<module>\u001b[0;34m()\u001b[0m\n\u001b[0;32m----> 1\u001b[0;31m \u001b[0mC1\u001b[0m\u001b[0;34m=\u001b[0m\u001b[0mchipanze\u001b[0m\u001b[0;34m(\u001b[0m\u001b[0;34m\"Chico\"\u001b[0m\u001b[0;34m)\u001b[0m\u001b[0;34m\u001b[0m\u001b[0;34m\u001b[0m\u001b[0m\n\u001b[0m\u001b[1;32m      2\u001b[0m \u001b[0mC2\u001b[0m\u001b[0;34m=\u001b[0m\u001b[0mchipanze\u001b[0m\u001b[0;34m(\u001b[0m\u001b[0;34m\"Tião\"\u001b[0m\u001b[0;34m)\u001b[0m\u001b[0;34m\u001b[0m\u001b[0;34m\u001b[0m\u001b[0m\n\u001b[1;32m      3\u001b[0m \u001b[0mG1\u001b[0m\u001b[0;34m=\u001b[0m\u001b[0mGorila\u001b[0m\u001b[0;34m(\u001b[0m\u001b[0;34m\"Mozerc\"\u001b[0m\u001b[0;34m)\u001b[0m\u001b[0;34m\u001b[0m\u001b[0;34m\u001b[0m\u001b[0m\n\u001b[1;32m      4\u001b[0m \u001b[0mG2\u001b[0m\u001b[0;34m=\u001b[0m\u001b[0mGorila\u001b[0m\u001b[0;34m(\u001b[0m\u001b[0;34m\"Kalil\"\u001b[0m\u001b[0;34m)\u001b[0m\u001b[0;34m\u001b[0m\u001b[0;34m\u001b[0m\u001b[0m\n\u001b[1;32m      5\u001b[0m \u001b[0mV1\u001b[0m\u001b[0;34m=\u001b[0m\u001b[0mVaca\u001b[0m\u001b[0;34m(\u001b[0m\u001b[0;34m\"Melinda\"\u001b[0m\u001b[0;34m)\u001b[0m\u001b[0;34m\u001b[0m\u001b[0;34m\u001b[0m\u001b[0m\n",
            "\u001b[0;31mTypeError\u001b[0m: 'str' object is not callable"
          ]
        }
      ]
    },
    {
      "cell_type": "code",
      "source": [
        "A"
      ],
      "metadata": {
        "colab": {
          "base_uri": "https://localhost:8080/"
        },
        "id": "1K3orzsXDNn0",
        "outputId": "46d2f0d6-9369-4b33-f372-9806435a8326"
      },
      "execution_count": null,
      "outputs": [
        {
          "output_type": "execute_result",
          "data": {
            "text/plain": [
              "{}"
            ]
          },
          "metadata": {},
          "execution_count": 14
        }
      ]
    }
  ]
}